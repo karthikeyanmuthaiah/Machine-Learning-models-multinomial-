{
 "cells": [
  {
   "cell_type": "code",
   "execution_count": 1,
   "metadata": {},
   "outputs": [
    {
     "name": "stdout",
     "output_type": "stream",
     "text": [
      "E:\\karthi_m\\wind\n"
     ]
    }
   ],
   "source": [
    "cd E:\\karthi_m\\wind"
   ]
  },
  {
   "cell_type": "code",
   "execution_count": 3,
   "metadata": {},
   "outputs": [],
   "source": [
    "import pandas as pd\n",
    "from sklearn.model_selection import cross_val_score\n",
    "from sklearn import metrics\n",
    "import seaborn as sns\n",
    "import numpy as np\n",
    "import matplotlib.pyplot as plt\n",
    "from sklearn.metrics import accuracy_score"
   ]
  },
  {
   "cell_type": "code",
   "execution_count": 8,
   "metadata": {},
   "outputs": [],
   "source": [
    "da=pd.read_csv('data1.csv')"
   ]
  },
  {
   "cell_type": "code",
   "execution_count": 9,
   "metadata": {},
   "outputs": [
    {
     "data": {
      "text/html": [
       "<div>\n",
       "<style scoped>\n",
       "    .dataframe tbody tr th:only-of-type {\n",
       "        vertical-align: middle;\n",
       "    }\n",
       "\n",
       "    .dataframe tbody tr th {\n",
       "        vertical-align: top;\n",
       "    }\n",
       "\n",
       "    .dataframe thead th {\n",
       "        text-align: right;\n",
       "    }\n",
       "</style>\n",
       "<table border=\"1\" class=\"dataframe\">\n",
       "  <thead>\n",
       "    <tr style=\"text-align: right;\">\n",
       "      <th></th>\n",
       "      <th>windspeed</th>\n",
       "      <th>airdensity</th>\n",
       "      <th>amb_temp</th>\n",
       "      <th>nac_direction</th>\n",
       "      <th>blds_pitchangle</th>\n",
       "      <th>rtr_rpm</th>\n",
       "      <th>gen_rpm</th>\n",
       "      <th>wtg_state</th>\n",
       "    </tr>\n",
       "  </thead>\n",
       "  <tbody>\n",
       "    <tr>\n",
       "      <th>0</th>\n",
       "      <td>9.1</td>\n",
       "      <td>1.162127</td>\n",
       "      <td>27</td>\n",
       "      <td>61.8</td>\n",
       "      <td>(-2,-4)</td>\n",
       "      <td>14.1</td>\n",
       "      <td>1305.0</td>\n",
       "      <td>ok</td>\n",
       "    </tr>\n",
       "    <tr>\n",
       "      <th>1</th>\n",
       "      <td>9.6</td>\n",
       "      <td>1.162127</td>\n",
       "      <td>27</td>\n",
       "      <td>61.8</td>\n",
       "      <td>(-2,-4)</td>\n",
       "      <td>14.4</td>\n",
       "      <td>1336.0</td>\n",
       "      <td>ok</td>\n",
       "    </tr>\n",
       "    <tr>\n",
       "      <th>2</th>\n",
       "      <td>9.6</td>\n",
       "      <td>1.162127</td>\n",
       "      <td>27</td>\n",
       "      <td>61.8</td>\n",
       "      <td>(-2,-4)</td>\n",
       "      <td>14.4</td>\n",
       "      <td>1330.0</td>\n",
       "      <td>ok</td>\n",
       "    </tr>\n",
       "    <tr>\n",
       "      <th>3</th>\n",
       "      <td>11.2</td>\n",
       "      <td>1.162127</td>\n",
       "      <td>27</td>\n",
       "      <td>65.2</td>\n",
       "      <td>(-0.1,-1.9)</td>\n",
       "      <td>14.5</td>\n",
       "      <td>1345.0</td>\n",
       "      <td>ok</td>\n",
       "    </tr>\n",
       "    <tr>\n",
       "      <th>4</th>\n",
       "      <td>11.4</td>\n",
       "      <td>1.162127</td>\n",
       "      <td>27</td>\n",
       "      <td>66.6</td>\n",
       "      <td>(-0.1,-1.9)</td>\n",
       "      <td>14.5</td>\n",
       "      <td>1344.0</td>\n",
       "      <td>ok</td>\n",
       "    </tr>\n",
       "  </tbody>\n",
       "</table>\n",
       "</div>"
      ],
      "text/plain": [
       "   windspeed  airdensity  amb_temp  nac_direction blds_pitchangle  rtr_rpm  \\\n",
       "0        9.1    1.162127        27           61.8         (-2,-4)     14.1   \n",
       "1        9.6    1.162127        27           61.8         (-2,-4)     14.4   \n",
       "2        9.6    1.162127        27           61.8         (-2,-4)     14.4   \n",
       "3       11.2    1.162127        27           65.2     (-0.1,-1.9)     14.5   \n",
       "4       11.4    1.162127        27           66.6     (-0.1,-1.9)     14.5   \n",
       "\n",
       "   gen_rpm wtg_state  \n",
       "0   1305.0        ok  \n",
       "1   1336.0        ok  \n",
       "2   1330.0        ok  \n",
       "3   1345.0        ok  \n",
       "4   1344.0        ok  "
      ]
     },
     "execution_count": 9,
     "metadata": {},
     "output_type": "execute_result"
    }
   ],
   "source": [
    "da.head()"
   ]
  },
  {
   "cell_type": "code",
   "execution_count": 12,
   "metadata": {},
   "outputs": [
    {
     "data": {
      "text/plain": [
       "ok                   44020\n",
       "wind low              8658\n",
       "curtailed             4186\n",
       "Gen not conn          3896\n",
       "high wind cut-out       29\n",
       "Name: wtg_state, dtype: int64"
      ]
     },
     "execution_count": 12,
     "metadata": {},
     "output_type": "execute_result"
    }
   ],
   "source": [
    "da['wtg_state'].value_counts()"
   ]
  },
  {
   "cell_type": "code",
   "execution_count": 14,
   "metadata": {},
   "outputs": [
    {
     "data": {
      "text/html": [
       "<div>\n",
       "<style scoped>\n",
       "    .dataframe tbody tr th:only-of-type {\n",
       "        vertical-align: middle;\n",
       "    }\n",
       "\n",
       "    .dataframe tbody tr th {\n",
       "        vertical-align: top;\n",
       "    }\n",
       "\n",
       "    .dataframe thead th {\n",
       "        text-align: right;\n",
       "    }\n",
       "</style>\n",
       "<table border=\"1\" class=\"dataframe\">\n",
       "  <thead>\n",
       "    <tr style=\"text-align: right;\">\n",
       "      <th></th>\n",
       "      <th>windspeed</th>\n",
       "      <th>airdensity</th>\n",
       "      <th>amb_temp</th>\n",
       "      <th>nac_direction</th>\n",
       "      <th>blds_pitchangle</th>\n",
       "      <th>rtr_rpm</th>\n",
       "      <th>gen_rpm</th>\n",
       "      <th>wtg_state</th>\n",
       "    </tr>\n",
       "  </thead>\n",
       "  <tbody>\n",
       "    <tr>\n",
       "      <th>0</th>\n",
       "      <td>90</td>\n",
       "      <td>8</td>\n",
       "      <td>6</td>\n",
       "      <td>568</td>\n",
       "      <td>1</td>\n",
       "      <td>141</td>\n",
       "      <td>2805</td>\n",
       "      <td>3</td>\n",
       "    </tr>\n",
       "    <tr>\n",
       "      <th>1</th>\n",
       "      <td>95</td>\n",
       "      <td>8</td>\n",
       "      <td>6</td>\n",
       "      <td>568</td>\n",
       "      <td>1</td>\n",
       "      <td>144</td>\n",
       "      <td>3036</td>\n",
       "      <td>3</td>\n",
       "    </tr>\n",
       "    <tr>\n",
       "      <th>2</th>\n",
       "      <td>95</td>\n",
       "      <td>8</td>\n",
       "      <td>6</td>\n",
       "      <td>568</td>\n",
       "      <td>1</td>\n",
       "      <td>144</td>\n",
       "      <td>2982</td>\n",
       "      <td>3</td>\n",
       "    </tr>\n",
       "    <tr>\n",
       "      <th>3</th>\n",
       "      <td>111</td>\n",
       "      <td>8</td>\n",
       "      <td>6</td>\n",
       "      <td>602</td>\n",
       "      <td>0</td>\n",
       "      <td>145</td>\n",
       "      <td>3124</td>\n",
       "      <td>3</td>\n",
       "    </tr>\n",
       "    <tr>\n",
       "      <th>4</th>\n",
       "      <td>113</td>\n",
       "      <td>8</td>\n",
       "      <td>6</td>\n",
       "      <td>616</td>\n",
       "      <td>0</td>\n",
       "      <td>145</td>\n",
       "      <td>3114</td>\n",
       "      <td>3</td>\n",
       "    </tr>\n",
       "  </tbody>\n",
       "</table>\n",
       "</div>"
      ],
      "text/plain": [
       "   windspeed  airdensity  amb_temp  nac_direction  blds_pitchangle  rtr_rpm  \\\n",
       "0         90           8         6            568                1      141   \n",
       "1         95           8         6            568                1      144   \n",
       "2         95           8         6            568                1      144   \n",
       "3        111           8         6            602                0      145   \n",
       "4        113           8         6            616                0      145   \n",
       "\n",
       "   gen_rpm  wtg_state  \n",
       "0     2805          3  \n",
       "1     3036          3  \n",
       "2     2982          3  \n",
       "3     3124          3  \n",
       "4     3114          3  "
      ]
     },
     "execution_count": 14,
     "metadata": {},
     "output_type": "execute_result"
    }
   ],
   "source": [
    "y_ = da.apply(LabelEncoder().fit_transform)\n",
    "y_.head()"
   ]
  },
  {
   "cell_type": "code",
   "execution_count": 15,
   "metadata": {},
   "outputs": [],
   "source": [
    "x= da.drop(['wtg_state'],axis=1)\n",
    "y= da['wtg_state']"
   ]
  },
  {
   "cell_type": "code",
   "execution_count": 16,
   "metadata": {},
   "outputs": [],
   "source": [
    "x2=pd.get_dummies(x['blds_pitchangle'],drop_first=True)\n",
    "x1=x.drop(['blds_pitchangle'],axis=1)\n",
    "x= pd.concat([x1, x2], axis=1)"
   ]
  },
  {
   "cell_type": "code",
   "execution_count": null,
   "metadata": {},
   "outputs": [],
   "source": []
  },
  {
   "cell_type": "code",
   "execution_count": null,
   "metadata": {},
   "outputs": [],
   "source": []
  },
  {
   "cell_type": "code",
   "execution_count": null,
   "metadata": {},
   "outputs": [],
   "source": [
    "#Support vector machine"
   ]
  },
  {
   "cell_type": "code",
   "execution_count": 17,
   "metadata": {},
   "outputs": [],
   "source": [
    "from sklearn.model_selection import train_test_split\n",
    "X_train,X_test,y_train,y_test = train_test_split(x,y,test_size=0.25)"
   ]
  },
  {
   "cell_type": "code",
   "execution_count": 55,
   "metadata": {},
   "outputs": [
    {
     "data": {
      "text/plain": [
       "(45591, 10)"
      ]
     },
     "execution_count": 55,
     "metadata": {},
     "output_type": "execute_result"
    }
   ],
   "source": [
    "X_train.shape"
   ]
  },
  {
   "cell_type": "code",
   "execution_count": 56,
   "metadata": {},
   "outputs": [
    {
     "data": {
      "text/plain": [
       "(15198, 10)"
      ]
     },
     "execution_count": 56,
     "metadata": {},
     "output_type": "execute_result"
    }
   ],
   "source": [
    "X_test.shape"
   ]
  },
  {
   "cell_type": "code",
   "execution_count": 57,
   "metadata": {},
   "outputs": [],
   "source": [
    "from sklearn import svm, datasets\n",
    "import sklearn.model_selection as model_selection\n",
    "from sklearn.metrics import accuracy_score\n",
    "from sklearn.metrics import f1_score"
   ]
  },
  {
   "cell_type": "code",
   "execution_count": 58,
   "metadata": {},
   "outputs": [],
   "source": [
    "X_train, X_test, y_train, y_test = model_selection.train_test_split(x, y, train_size=0.75, test_size=0.25)"
   ]
  },
  {
   "cell_type": "code",
   "execution_count": 59,
   "metadata": {},
   "outputs": [],
   "source": [
    "rbf = svm.SVC(kernel='rbf', gamma=0.5, C=0.1).fit(X_train, y_train)"
   ]
  },
  {
   "cell_type": "code",
   "execution_count": 60,
   "metadata": {},
   "outputs": [],
   "source": [
    "rbf_pred = rbf.predict(X_test)"
   ]
  },
  {
   "cell_type": "code",
   "execution_count": 61,
   "metadata": {},
   "outputs": [
    {
     "name": "stdout",
     "output_type": "stream",
     "text": [
      "Accuracy :  0.76\n",
      "F1 :  0.68\n"
     ]
    }
   ],
   "source": [
    "rbf_accuracy = accuracy_score(y_test, rbf_pred)\n",
    "rbf_f1 = f1_score(y_test, rbf_pred, average='weighted')\n",
    "print('Accuracy : ', \"%.2f\" % (rbf_accuracy))\n",
    "print('F1 : ', \"%.2f\" % (rbf_f1))"
   ]
  },
  {
   "cell_type": "code",
   "execution_count": 62,
   "metadata": {},
   "outputs": [
    {
     "data": {
      "text/plain": [
       "array([[  29,   38,    0,  729,  125],\n",
       "       [  28,   45,    2,  799,  152],\n",
       "       [   0,    2,    0,    7,    0],\n",
       "       [ 357,  418,    2, 8668, 1572],\n",
       "       [  58,   98,    1, 1752,  316]], dtype=int64)"
      ]
     },
     "execution_count": 62,
     "metadata": {},
     "output_type": "execute_result"
    }
   ],
   "source": [
    "from sklearn import metrics\n",
    "cnf_matrix = metrics.confusion_matrix(y_test, y_pred)\n",
    "cnf_matrix"
   ]
  },
  {
   "cell_type": "code",
   "execution_count": null,
   "metadata": {},
   "outputs": [],
   "source": []
  }
 ],
 "metadata": {
  "kernelspec": {
   "display_name": "Python 3",
   "language": "python",
   "name": "python3"
  },
  "language_info": {
   "codemirror_mode": {
    "name": "ipython",
    "version": 3
   },
   "file_extension": ".py",
   "mimetype": "text/x-python",
   "name": "python",
   "nbconvert_exporter": "python",
   "pygments_lexer": "ipython3",
   "version": "3.8.3"
  }
 },
 "nbformat": 4,
 "nbformat_minor": 4
}
