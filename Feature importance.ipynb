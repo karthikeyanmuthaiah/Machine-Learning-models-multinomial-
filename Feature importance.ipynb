{
 "cells": [
  {
   "cell_type": "code",
   "execution_count": 1,
   "metadata": {},
   "outputs": [
    {
     "name": "stdout",
     "output_type": "stream",
     "text": [
      "E:\\karthi_m\\wind\n"
     ]
    }
   ],
   "source": [
    "cd E:\\karthi_m\\wind"
   ]
  },
  {
   "cell_type": "code",
   "execution_count": 2,
   "metadata": {},
   "outputs": [],
   "source": [
    "import pandas as pd\n",
    "from sklearn.model_selection import cross_val_score\n",
    "from sklearn import metrics\n",
    "import seaborn as sns\n",
    "import numpy as np\n",
    "import matplotlib.pyplot as plt\n",
    "from sklearn.metrics import accuracy_score"
   ]
  },
  {
   "cell_type": "code",
   "execution_count": 3,
   "metadata": {},
   "outputs": [],
   "source": [
    "da=pd.read_csv('data1.csv')"
   ]
  },
  {
   "cell_type": "code",
   "execution_count": 4,
   "metadata": {},
   "outputs": [
    {
     "data": {
      "text/html": [
       "<div>\n",
       "<style scoped>\n",
       "    .dataframe tbody tr th:only-of-type {\n",
       "        vertical-align: middle;\n",
       "    }\n",
       "\n",
       "    .dataframe tbody tr th {\n",
       "        vertical-align: top;\n",
       "    }\n",
       "\n",
       "    .dataframe thead th {\n",
       "        text-align: right;\n",
       "    }\n",
       "</style>\n",
       "<table border=\"1\" class=\"dataframe\">\n",
       "  <thead>\n",
       "    <tr style=\"text-align: right;\">\n",
       "      <th></th>\n",
       "      <th>windspeed</th>\n",
       "      <th>airdensity</th>\n",
       "      <th>amb_temp</th>\n",
       "      <th>nac_direction</th>\n",
       "      <th>blds_pitchangle</th>\n",
       "      <th>rtr_rpm</th>\n",
       "      <th>gen_rpm</th>\n",
       "      <th>wtg_state</th>\n",
       "    </tr>\n",
       "  </thead>\n",
       "  <tbody>\n",
       "    <tr>\n",
       "      <th>0</th>\n",
       "      <td>9.1</td>\n",
       "      <td>1.162127</td>\n",
       "      <td>27</td>\n",
       "      <td>61.8</td>\n",
       "      <td>(-2,-4)</td>\n",
       "      <td>14.1</td>\n",
       "      <td>1305.0</td>\n",
       "      <td>ok</td>\n",
       "    </tr>\n",
       "    <tr>\n",
       "      <th>1</th>\n",
       "      <td>9.6</td>\n",
       "      <td>1.162127</td>\n",
       "      <td>27</td>\n",
       "      <td>61.8</td>\n",
       "      <td>(-2,-4)</td>\n",
       "      <td>14.4</td>\n",
       "      <td>1336.0</td>\n",
       "      <td>ok</td>\n",
       "    </tr>\n",
       "    <tr>\n",
       "      <th>2</th>\n",
       "      <td>9.6</td>\n",
       "      <td>1.162127</td>\n",
       "      <td>27</td>\n",
       "      <td>61.8</td>\n",
       "      <td>(-2,-4)</td>\n",
       "      <td>14.4</td>\n",
       "      <td>1330.0</td>\n",
       "      <td>ok</td>\n",
       "    </tr>\n",
       "    <tr>\n",
       "      <th>3</th>\n",
       "      <td>11.2</td>\n",
       "      <td>1.162127</td>\n",
       "      <td>27</td>\n",
       "      <td>65.2</td>\n",
       "      <td>(-0.1,-1.9)</td>\n",
       "      <td>14.5</td>\n",
       "      <td>1345.0</td>\n",
       "      <td>ok</td>\n",
       "    </tr>\n",
       "    <tr>\n",
       "      <th>4</th>\n",
       "      <td>11.4</td>\n",
       "      <td>1.162127</td>\n",
       "      <td>27</td>\n",
       "      <td>66.6</td>\n",
       "      <td>(-0.1,-1.9)</td>\n",
       "      <td>14.5</td>\n",
       "      <td>1344.0</td>\n",
       "      <td>ok</td>\n",
       "    </tr>\n",
       "  </tbody>\n",
       "</table>\n",
       "</div>"
      ],
      "text/plain": [
       "   windspeed  airdensity  amb_temp  nac_direction blds_pitchangle  rtr_rpm  \\\n",
       "0        9.1    1.162127        27           61.8         (-2,-4)     14.1   \n",
       "1        9.6    1.162127        27           61.8         (-2,-4)     14.4   \n",
       "2        9.6    1.162127        27           61.8         (-2,-4)     14.4   \n",
       "3       11.2    1.162127        27           65.2     (-0.1,-1.9)     14.5   \n",
       "4       11.4    1.162127        27           66.6     (-0.1,-1.9)     14.5   \n",
       "\n",
       "   gen_rpm wtg_state  \n",
       "0   1305.0        ok  \n",
       "1   1336.0        ok  \n",
       "2   1330.0        ok  \n",
       "3   1345.0        ok  \n",
       "4   1344.0        ok  "
      ]
     },
     "execution_count": 4,
     "metadata": {},
     "output_type": "execute_result"
    }
   ],
   "source": [
    "da.head()"
   ]
  },
  {
   "cell_type": "code",
   "execution_count": 5,
   "metadata": {},
   "outputs": [
    {
     "data": {
      "text/plain": [
       "ok                   44020\n",
       "wind low              8658\n",
       "curtailed             4186\n",
       "Gen not conn          3896\n",
       "high wind cut-out       29\n",
       "Name: wtg_state, dtype: int64"
      ]
     },
     "execution_count": 5,
     "metadata": {},
     "output_type": "execute_result"
    }
   ],
   "source": [
    "da['wtg_state'].value_counts()"
   ]
  },
  {
   "cell_type": "code",
   "execution_count": 9,
   "metadata": {},
   "outputs": [],
   "source": [
    "x= da.drop(['wtg_state'],axis=1)\n",
    "y= da['wtg_state']"
   ]
  },
  {
   "cell_type": "code",
   "execution_count": 10,
   "metadata": {},
   "outputs": [],
   "source": [
    "x2=pd.get_dummies(x['blds_pitchangle'],drop_first=True)\n",
    "x1=x.drop(['blds_pitchangle'],axis=1)\n",
    "x= pd.concat([x1, x2], axis=1)"
   ]
  },
  {
   "cell_type": "code",
   "execution_count": null,
   "metadata": {},
   "outputs": [],
   "source": []
  },
  {
   "cell_type": "code",
   "execution_count": 59,
   "metadata": {},
   "outputs": [],
   "source": [
    "#Feature importance"
   ]
  },
  {
   "cell_type": "code",
   "execution_count": 11,
   "metadata": {},
   "outputs": [],
   "source": [
    "from sklearn.ensemble import RandomForestClassifier\n",
    "rcf = RandomForestClassifier()      \n",
    "rcf = rcf.fit(x,y)\n",
    "importances = rcf.feature_importances_"
   ]
  },
  {
   "cell_type": "code",
   "execution_count": 12,
   "metadata": {},
   "outputs": [
    {
     "name": "stdout",
     "output_type": "stream",
     "text": [
      "1. feature 0 (0.339532)\n",
      "2. feature 5 (0.216673)\n",
      "3. feature 3 (0.146110)\n",
      "4. feature 4 (0.115976)\n",
      "5. feature 6 (0.075878)\n",
      "6. feature 7 (0.061420)\n",
      "7. feature 1 (0.017604)\n",
      "8. feature 2 (0.016657)\n",
      "9. feature 9 (0.009276)\n",
      "10. feature 8 (0.000875)\n"
     ]
    }
   ],
   "source": [
    "std = np.std([tree.feature_importances_ for tree in rcf.estimators_], axis=0)\n",
    "indices = np.argsort(importances)[::-1]\n",
    "for f in range(x.shape[1]):\n",
    "    print(\"%d. feature %d (%f)\" % (f + 1, indices[f], importances[indices[f]]))"
   ]
  },
  {
   "cell_type": "code",
   "execution_count": 25,
   "metadata": {},
   "outputs": [
    {
     "data": {
      "image/png": "[encoded data removed]",
      "text/plain": [
       "<Figure size 1008x936 with 1 Axes>"
      ]
     },
     "metadata": {
      "needs_background": "light"
     },
     "output_type": "display_data"
    }
   ],
   "source": [
    "plt.figure(1, figsize=(14, 13))\n",
    "plt.title(\"Feature Importances\")\n",
    "plt.barh(range(x.shape[1]), importances[indices], color=\"g\",  align=\"center\")\n",
    "plt.yticks(range(x.shape[1]), x.columns[indices], rotation=360)\n",
    "plt.ylim([-1, x.shape[1]])\n",
    "plt.show()"
   ]
  },
  {
   "cell_type": "code",
   "execution_count": null,
   "metadata": {},
   "outputs": [],
   "source": []
  }
 ],
 "metadata": {
  "kernelspec": {
   "display_name": "Python 3",
   "language": "python",
   "name": "python3"
  },
  "language_info": {
   "codemirror_mode": {
    "name": "ipython",
    "version": 3
   },
   "file_extension": ".py",
   "mimetype": "text/x-python",
   "name": "python",
   "nbconvert_exporter": "python",
   "pygments_lexer": "ipython3",
   "version": "3.8.3"
  }
 },
 "nbformat": 4,
 "nbformat_minor": 4
}
